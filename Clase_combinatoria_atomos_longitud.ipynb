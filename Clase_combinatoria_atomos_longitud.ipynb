{
  "nbformat": 4,
  "nbformat_minor": 0,
  "metadata": {
    "colab": {
      "provenance": [],
      "authorship_tag": "ABX9TyMr2DvJIQmzshVjAVJtH7a4",
      "include_colab_link": true
    },
    "kernelspec": {
      "name": "python3",
      "display_name": "Python 3"
    },
    "language_info": {
      "name": "python"
    }
  },
  "cells": [
    {
      "cell_type": "markdown",
      "metadata": {
        "id": "view-in-github",
        "colab_type": "text"
      },
      "source": [
        "<a href=\"https://colab.research.google.com/github/mystic23/Estructuras_Discretas_Grupo/blob/main/Clase_combinatoria_atomos_longitud.ipynb\" target=\"_parent\"><img src=\"https://colab.research.google.com/assets/colab-badge.svg\" alt=\"Open In Colab\"/></a>"
      ]
    },
    {
      "cell_type": "markdown",
      "source": [
        "Tenemos que: \\\\\n",
        "\n",
        "$$ T_{22} (z) = E + Z_{2} *E + (Z_{0} + Z_{1} +Z_{2} \\cdot (Z_{0} + Z_{1} ) * T_{22}(z) $$\n",
        "\n",
        "Entonces: \\\\\n",
        "\n",
        "$$ T_{22} (z) = 1 + Z * 1 + (2z+2z^2)  * T_{22}(z) $$\n",
        "\n",
        "Por lo tanto \\\\\n",
        "\n",
        "$$T_{22}(z) = \\frac{1+z}{1-2z-2z^2} $$\n"
      ],
      "metadata": {
        "id": "iugWzkTtMqLF"
      }
    },
    {
      "cell_type": "code",
      "execution_count": 16,
      "metadata": {
        "id": "XDwliLeCIfji"
      },
      "outputs": [],
      "source": [
        "def msTnot22(z):\n",
        "  if not(z):\n",
        "    return True\n",
        "  else:\n",
        "    if z[0]=='2' and not(z[1]):\n",
        "      return True\n",
        "    else:\n",
        "      if (z[0]=='0' or\n",
        "          z[0]=='1' or\n",
        "          (z[0]=='2' and\n",
        "          (z[1]=='0' or z[1]=='1'))):\n",
        "          return msTnot22(z[1:])\n",
        "      else:\n",
        "        return False\n"
      ]
    },
    {
      "cell_type": "markdown",
      "source": [
        "#Prueba del metodo simbólico\n"
      ],
      "metadata": {
        "id": "5MLmAc6PJuXE"
      }
    },
    {
      "cell_type": "code",
      "source": [
        "msTnot22(\"22\")"
      ],
      "metadata": {
        "colab": {
          "base_uri": "https://localhost:8080/"
        },
        "id": "RyL0TgQEKO1q",
        "outputId": "40414f76-5efc-4c01-d185-80f51d340a23"
      },
      "execution_count": 21,
      "outputs": [
        {
          "output_type": "execute_result",
          "data": {
            "text/plain": [
              "False"
            ]
          },
          "metadata": {},
          "execution_count": 21
        }
      ]
    }
  ]
}