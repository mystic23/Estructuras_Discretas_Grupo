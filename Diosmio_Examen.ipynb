{
  "nbformat": 4,
  "nbformat_minor": 0,
  "metadata": {
    "colab": {
      "provenance": [],
      "authorship_tag": "ABX9TyMN1yrSW8rNgX0vufGMuWI9",
      "include_colab_link": true
    },
    "kernelspec": {
      "name": "python3",
      "display_name": "Python 3"
    },
    "language_info": {
      "name": "python"
    }
  },
  "cells": [
    {
      "cell_type": "markdown",
      "metadata": {
        "id": "view-in-github",
        "colab_type": "text"
      },
      "source": [
        "<a href=\"https://colab.research.google.com/github/mystic23/Estructuras_Discretas_Grupo/blob/main/Diosmio_Examen.ipynb\" target=\"_parent\"><img src=\"https://colab.research.google.com/assets/colab-badge.svg\" alt=\"Open In Colab\"/></a>"
      ]
    },
    {
      "cell_type": "markdown",
      "source": [
        "#Solución con raices complejas"
      ],
      "metadata": {
        "id": "3KlI3tc8B3ib"
      }
    },
    {
      "cell_type": "markdown",
      "source": [
        "#Con 5 variables"
      ],
      "metadata": {
        "id": "poFcJKPIyN1r"
      }
    },
    {
      "cell_type": "code",
      "source": [
        "#Créditos Profesor Alfonso Mancilla\n",
        "import sympy as sp\n",
        "ci=[1,1,3,5,11]\n",
        "n,b_0,b_1,b_2,b_3,b_4=sp.symbols('n,b_0,b_1,b_2,b_3,b_4')\n",
        "fn=b_0*(-2)**n + b_1*2**n +b_2*(complex(0,-2))**n + b_3*(complex(0,2))**n+b_4*(-1)**n\n",
        "fn=sp.lambdify((n,b_0,b_1,b_2,b_3,b_4), fn)\n",
        "Eq=[fn(n,b_0,b_1,b_2,b_3,b_4)-ci[n] for n in range(5)]\n",
        "print(Eq)\n",
        "sp.solve(Eq)"
      ],
      "metadata": {
        "colab": {
          "base_uri": "https://localhost:8080/"
        },
        "id": "lu5UGZw-yC68",
        "outputId": "32a25171-77cd-4e86-f39a-ed0afb977402"
      },
      "execution_count": 15,
      "outputs": [
        {
          "output_type": "stream",
          "name": "stdout",
          "text": [
            "[b_0 + b_1 + 1.0*b_2 + 1.0*b_3 + b_4 - 1, -2*b_0 + 2*b_1 - 2.0*I*b_2 + 2.0*I*b_3 - b_4 - 1, 4*b_0 + 4*b_1 - 4.0*b_2 - 4.0*b_3 + b_4 - 3, -8*b_0 + 8*b_1 + 8.0*I*b_2 - 8.0*I*b_3 - b_4 - 5, 16*b_0 + 16*b_1 + 16.0*b_2 + 16.0*b_3 + b_4 - 11]\n"
          ]
        },
        {
          "output_type": "execute_result",
          "data": {
            "text/plain": [
              "{b_0: 0.0, b_1: 0.666666666666667, b_2: 0.0, b_3: 0.0, b_4: 0.333333333333333}"
            ]
          },
          "metadata": {},
          "execution_count": 15
        }
      ]
    },
    {
      "cell_type": "markdown",
      "source": [
        "#Con 3 variables"
      ],
      "metadata": {
        "id": "RcAR6TDPyPsT"
      }
    },
    {
      "cell_type": "code",
      "execution_count": 12,
      "metadata": {
        "colab": {
          "base_uri": "https://localhost:8080/"
        },
        "id": "hIGCdUw1ir1y",
        "outputId": "b00ffd0d-0d84-4c0e-ce1d-459ded5dd822"
      },
      "outputs": [
        {
          "output_type": "stream",
          "name": "stdout",
          "text": [
            "[b_0 + b_1, -b_0 + 3*b_1 + 3*b_2, b_0 + 9*b_1 + 18*b_2 - 1]\n"
          ]
        },
        {
          "output_type": "execute_result",
          "data": {
            "text/plain": [
              "{b_0: 1/16, b_1: -1/16, b_2: 1/12}"
            ]
          },
          "metadata": {},
          "execution_count": 12
        }
      ],
      "source": [
        "#Créditos Profesor Alfonso Mancilla\n",
        "import sympy as sp\n",
        "ci=[0,0,1,1]\n",
        "n,b_0,b_1,b_2,b_3=sp.symbols('n,b_0,b_1,b_2,b_3')\n",
        "fn=b_0*(-1)**n + b_1*3**n + b_2*n*3**n\n",
        "fn=sp.lambdify((n,b_0,b_1,b_2), fn)\n",
        "Eq=[fn(n,b_0,b_1,b_2)-ci[n] for n in range(3)]\n",
        "print(Eq)\n",
        "sp.solve(Eq)\n"
      ]
    },
    {
      "cell_type": "code",
      "source": [
        "#Créditos Profesor Alfonso Mancilla\n",
        "import sympy as sp\n",
        "ci=[1,2,4]\n",
        "n,b_0,b_1,b_2=sp.symbols('n,b_0,b_1,b_2')\n",
        "fn= b_0  + n*b_1 + n**2*b_2\n",
        "fn=sp.lambdify((n,b_0,b_1,b_2), fn)\n",
        "Eq=[fn(n,b_0,b_1,b_2)-ci[n] for n in range(3)]\n",
        "print(Eq)\n",
        "sp.solve(Eq)\n"
      ],
      "metadata": {
        "colab": {
          "base_uri": "https://localhost:8080/"
        },
        "id": "r14xPPNo12GR",
        "outputId": "cc1c833f-27eb-4a9d-c3fc-57f8733ebde1"
      },
      "execution_count": 9,
      "outputs": [
        {
          "output_type": "stream",
          "name": "stdout",
          "text": [
            "[b_0 - 1, b_0 + b_1 + b_2 - 2, b_0 + 2*b_1 + 4*b_2 - 4]\n"
          ]
        },
        {
          "output_type": "execute_result",
          "data": {
            "text/plain": [
              "{b_0: 1, b_1: 1/2, b_2: 1/2}"
            ]
          },
          "metadata": {},
          "execution_count": 9
        }
      ]
    },
    {
      "cell_type": "code",
      "source": [
        "def rec(i):\n",
        "    V = [1, 1, 3, 5, 11, 21]\n",
        "    if i >= 0 and i <= 5:\n",
        "        return V[i]\n",
        "    else:\n",
        "        return 4 * rec(i - 6) - rec(i - 3) + 4 * rec(i - 1) - 40 * 2**(i - 6)\n",
        "\n",
        "y = [rec(i) for i in range(6, 16, 1)]\n",
        "print(y)\n",
        "\n",
        "def no_rec(i):\n",
        "    return int((2**(i + 1) + (-1)**i) / 3)\n",
        "\n",
        "z = [no_rec(i) for i in range(6, 16, 1)]\n",
        "print(z)\n",
        "\n"
      ],
      "metadata": {
        "colab": {
          "base_uri": "https://localhost:8080/"
        },
        "id": "gfmjvb_bzDzT",
        "outputId": "49f981a3-1ac6-49c9-c3d7-e5ee9fe8f9b6"
      },
      "execution_count": 17,
      "outputs": [
        {
          "output_type": "stream",
          "name": "stdout",
          "text": [
            "[43, 85, 171, 341, 683, 1365, 2731, 5461, 10923, 21845]\n",
            "[43, 85, 171, 341, 683, 1365, 2731, 5461, 10923, 21845]\n"
          ]
        }
      ]
    },
    {
      "cell_type": "code",
      "source": [
        "def secuencia_recursiva(valores_iniciales, funcion_recursiva, n):\n",
        "    secuencia = valores_iniciales[:]\n",
        "    for i in range(len(valores_iniciales), n):\n",
        "        siguiente_valor = funcion_recursiva(secuencia, i)\n",
        "        secuencia.append(siguiente_valor)\n",
        "    return secuencia\n",
        "\n",
        "def secuencia_no_recursiva(valor_inicial, funcion_no_recursiva, n):\n",
        "    secuencia = [funcion_no_recursiva(i) for i in range(n)]\n",
        "    return secuencia\n",
        "\n",
        "\n",
        "def funcion_recursiva(secuencia, i):\n",
        "    return 4 * secuencia[i - 6] - secuencia[i - 3] + 4 * secuencia[i - 1] - 40 * 2 ** (i - 6)\n",
        "\n",
        "# Función no recursiva\n",
        "def funcion_no_recursiva(i):\n",
        "    return int((2 ** (i + 1) + (-1) ** i) / 3)\n",
        "\n",
        "# valores_iniciales = [1, 1, 3, 5, 11, 21]\n",
        "valores_iniciales = [0,0,1,1]\n",
        "n = 20\n",
        "\n",
        "resultado_secuencia_recursiva = secuencia_recursiva(valores_iniciales, funcion_recursiva, n)\n",
        "resultado_secuencia_no_recursiva = secuencia_no_recursiva(6, funcion_no_recursiva, n)\n",
        "\n",
        "print(\"Secuencia calculada recursivamente:\", resultado_secuencia_recursiva)\n",
        "print(\"Secuencia calculada no recursivamente:\", resultado_secuencia_no_recursiva)\n"
      ],
      "metadata": {
        "colab": {
          "base_uri": "https://localhost:8080/"
        },
        "id": "xE9dzavO0v9D",
        "outputId": "d110cb29-d430-4313-fed2-6a30c562a8f9"
      },
      "execution_count": 18,
      "outputs": [
        {
          "output_type": "stream",
          "name": "stdout",
          "text": [
            "Secuencia calculada recursivamente: [1, 1, 3, 5, 11, 21, 43, 85, 171, 341, 683, 1365, 2731, 5461, 10923, 21845, 43691, 87381, 174763, 349525]\n",
            "Secuencia calculada no recursivamente: [1, 1, 3, 5, 11, 21, 43, 85, 171, 341, 683, 1365, 2731, 5461, 10923, 21845, 43691, 87381, 174763, 349525]\n"
          ]
        }
      ]
    },
    {
      "cell_type": "code",
      "source": [
        "def secuencia_recursiva(valores_iniciales, funcion_recursiva, n):\n",
        "    secuencia = valores_iniciales[:]\n",
        "    for i in range(len(valores_iniciales), n):\n",
        "        siguiente_valor = funcion_recursiva(secuencia, i)\n",
        "        secuencia.append(siguiente_valor)\n",
        "    return secuencia\n",
        "\n",
        "def secuencia_no_recursiva(funcion_no_recursiva, n):\n",
        "    secuencia = [funcion_no_recursiva(i) for i in range(n)]\n",
        "    return secuencia\n",
        "\n",
        "def funcion_recursiva(secuencia, i):\n",
        "    if i == 0:\n",
        "        return 1\n",
        "    elif i == 1:\n",
        "        return 1\n",
        "    elif i == 2:\n",
        "        return 3\n",
        "    elif i == 3:\n",
        "        return 5\n",
        "    else:\n",
        "        return 16 * secuencia[i - 4] - 5 * (-1) ** i\n",
        "\n",
        "def funcion_no_recursiva(i):\n",
        "    return int((2 ** (i + 1) + (-1) ** i) / 3)\n",
        "\n",
        "valores_iniciales = [rec(i) for i in range(4)]\n",
        "n = 14\n",
        "\n",
        "resultado_secuencia_recursiva = secuencia_recursiva(valores_iniciales, funcion_recursiva, n)\n",
        "resultado_secuencia_no_recursiva = secuencia_no_recursiva(funcion_no_recursiva, n)\n",
        "\n",
        "print(\"Secuencia calculada recursivamente:\", resultado_secuencia_recursiva)\n",
        "print(\"Secuencia calculada no recursivamente:\", resultado_secuencia_no_recursiva)\n",
        "\n",
        "\n"
      ],
      "metadata": {
        "colab": {
          "base_uri": "https://localhost:8080/"
        },
        "id": "esegor45G08p",
        "outputId": "3b817dba-2be3-46a4-9fc0-771ad908ecb9"
      },
      "execution_count": 24,
      "outputs": [
        {
          "output_type": "stream",
          "name": "stdout",
          "text": [
            "Secuencia calculada recursivamente: [1, 1, 3, 5, 11, 21, 43, 85, 171, 341, 683, 1365, 2731, 5461]\n",
            "Secuencia calculada no recursivamente: [1, 1, 3, 5, 11, 21, 43, 85, 171, 341, 683, 1365, 2731, 5461]\n"
          ]
        }
      ]
    },
    {
      "cell_type": "code",
      "source": [
        "def rec(i):\n",
        "  if i==0:\n",
        "    return 1\n",
        "  elif i==1:\n",
        "    return 1\n",
        "  elif i==2:\n",
        "    return 3\n",
        "  elif i==3:\n",
        "    return 5\n",
        "  else:\n",
        "    return 16*rec(i-4)-5*(-1)**i\n",
        "y = [rec(i) for i in range(4,14,1)]\n",
        "print(y)\n",
        "def no_rec(i):\n",
        "  return int((2**(i+1)+(-1)**i)/3)\n",
        "z = [no_rec(i) for i in range(4,14,1)]\n",
        "print(z)"
      ],
      "metadata": {
        "colab": {
          "base_uri": "https://localhost:8080/"
        },
        "id": "F_oiiThoHK0T",
        "outputId": "c8132656-6de6-4be4-c02e-6d52f6610db3"
      },
      "execution_count": 20,
      "outputs": [
        {
          "output_type": "stream",
          "name": "stdout",
          "text": [
            "[11, 21, 43, 85, 171, 341, 683, 1365, 2731, 5461]\n",
            "[11, 21, 43, 85, 171, 341, 683, 1365, 2731, 5461]\n"
          ]
        }
      ]
    },
    {
      "cell_type": "code",
      "source": [
        "import sympy as sp\n",
        "\n",
        "\n",
        "# Define the variables\n",
        "\n",
        "a,b,c,d,e = sp.symbols('a b c d e')\n",
        "\n",
        "i = sp.I\n",
        "\n",
        "\n",
        "\n",
        " # Define the equations\n",
        "\n",
        "eq1 = sp.Eq(a+ b+c+d+e, 1)\n",
        "eq2 = sp.Eq(2*a    +-2*b         +(2*i) *c + (-2*i)*d -e, 1)\n",
        "eq3 = sp.Eq(2**2*a +(-2**2)*b +(2*i)**2*c + (-2*i)*2*d + e, 3)\n",
        "eq4 = sp.Eq(2**3*a +(-2**3)*b +(2*i)**3*c + (-2*i)**3*d -e, 5)\n",
        "eq5 = sp.Eq(2**4*a +(-2**4)*b +(2*i)**4*c + (-2*i)*4*d + e, 11)\n",
        "\n",
        "solution =  sp.solve((eq1, eq2, eq3, eq4, eq5), (a,b,c,d,e))\n",
        "\n",
        "print(solution)"
      ],
      "metadata": {
        "colab": {
          "base_uri": "https://localhost:8080/"
        },
        "id": "bsrq6aBUEOva",
        "outputId": "6d69b5ff-6527-4551-9b79-b54d0331d992"
      },
      "execution_count": 15,
      "outputs": [
        {
          "output_type": "stream",
          "name": "stdout",
          "text": [
            "{a: 2/3, b: 0, c: 0, d: 0, e: 1/3}\n"
          ]
        }
      ]
    },
    {
      "cell_type": "code",
      "source": [
        "import sympy as sp\n",
        "\n",
        "\n",
        "a, b, c, d, e = sp.symbols('a b c d e')\n",
        "i = sp.I\n",
        "\n",
        "equations = [\n",
        "    a + b + c + d + e - 1,\n",
        "    2 * a - 2 * b + (2 * i) * c + (-2 * i) * d - e - 1,\n",
        "    2**2 * a - 2**2 * b + (2 * i)**2 * c + (-2 * i) * 2 * d + e - 3,\n",
        "    2**3 * a - 2**3 * b + (2 * i)**3 * c + (-2 * i)**3 * d - e - 5,\n",
        "    2**4 * a - 2**4 * b + (2 * i)**4 * c + (-2 * i) * 4 * d + e - 11\n",
        "]\n",
        "solution = sp.solve(equations, (a, b, c, d, e))\n",
        "print(solution)"
      ],
      "metadata": {
        "colab": {
          "base_uri": "https://localhost:8080/"
        },
        "id": "vJbT1C7hFwmz",
        "outputId": "a9ff14a2-6877-48d8-eaa0-161707d3b182"
      },
      "execution_count": 18,
      "outputs": [
        {
          "output_type": "stream",
          "name": "stdout",
          "text": [
            "{a: 2/3, b: 0, c: 0, d: 0, e: 1/3}\n"
          ]
        }
      ]
    }
  ]
}