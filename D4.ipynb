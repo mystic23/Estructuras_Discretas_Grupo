{
  "nbformat": 4,
  "nbformat_minor": 0,
  "metadata": {
    "colab": {
      "provenance": [],
      "authorship_tag": "ABX9TyO0OFiyTEh5nUVoXst4N1PC",
      "include_colab_link": true
    },
    "kernelspec": {
      "name": "python3",
      "display_name": "Python 3"
    },
    "language_info": {
      "name": "python"
    }
  },
  "cells": [
    {
      "cell_type": "markdown",
      "metadata": {
        "id": "view-in-github",
        "colab_type": "text"
      },
      "source": [
        "<a href=\"https://colab.research.google.com/github/mystic23/Estructuras_Discretas_Grupo/blob/main/D4.ipynb\" target=\"_parent\"><img src=\"https://colab.research.google.com/assets/colab-badge.svg\" alt=\"Open In Colab\"/></a>"
      ]
    },
    {
      "cell_type": "markdown",
      "source": [
        "#Clase 1 de Agosto del 2023"
      ],
      "metadata": {
        "id": "xASb3HHKC1YO"
      }
    },
    {
      "cell_type": "markdown",
      "source": [
        "#Problema 1\n",
        "\n",
        "$F_{n}$ número total de formas en las que s epuede embaldosar, o adoquinar\n",
        "un rectangulo de área 2 x n, con baldosas de 1x2 y/o 2x2"
      ],
      "metadata": {
        "id": "l-eDp3u0DMrn"
      }
    },
    {
      "cell_type": "markdown",
      "source": [
        "#Problema 2\n",
        "\n",
        "sea el $f_{n}$ el numero de regiones en el plano cartesiano que resultan cuando trazamos n lineas no paralelas, con la restriccion que mas de dos no s epueden interceptar en el mismo punto"
      ],
      "metadata": {
        "id": "yHJWbTv_VA3-"
      }
    },
    {
      "cell_type": "markdown",
      "source": [
        "#Problema 3\n",
        "tenemos una cudricula nxn y vamos a contar el numero de rutas que van desde la esquina superior izquierda hasta la esquina superior derecha  \n",
        "\n",
        "sea $f_{n}$ el numero total de rutas metropolitanas diferentes desde la esquina inferior izquierda hasta la esquina superior derecha en una cuadricula de $n+1 ⋅n+1$ puntos, con la restricción de que los movimientos solo pueden ser hacia la derecha o hacia arriba, no se vale regresarse ni hacia la izquierda ni hacia abajo"
      ],
      "metadata": {
        "id": "p7ymZNzqXvtr"
      }
    },
    {
      "cell_type": "code",
      "execution_count": null,
      "metadata": {
        "id": "vOcZl1RxCyAH"
      },
      "outputs": [],
      "source": []
    }
  ]
}